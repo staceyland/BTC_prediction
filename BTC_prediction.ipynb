{
  "nbformat": 4,
  "nbformat_minor": 0,
  "metadata": {
    "colab": {
      "name": "BTC_prediction.ipynb",
      "provenance": [],
      "authorship_tag": "ABX9TyMmCrrmyIJzMvhIVYljPShE",
      "include_colab_link": true
    },
    "kernelspec": {
      "name": "python3",
      "display_name": "Python 3"
    },
    "language_info": {
      "name": "python"
    }
  },
  "cells": [
    {
      "cell_type": "markdown",
      "metadata": {
        "id": "view-in-github",
        "colab_type": "text"
      },
      "source": [
        "<a href=\"https://colab.research.google.com/github/staceyland/BTC_prediction/blob/main/BTC_prediction.ipynb\" target=\"_parent\"><img src=\"https://colab.research.google.com/assets/colab-badge.svg\" alt=\"Open In Colab\"/></a>"
      ]
    },
    {
      "cell_type": "markdown",
      "metadata": {
        "id": "Xl8zFHWZsUvr"
      },
      "source": [
        "Let's set up the notebook."
      ]
    },
    {
      "cell_type": "code",
      "metadata": {
        "id": "4hg2iy-VVGfy"
      },
      "source": [
        "import numpy as np\n",
        "import matplotlib.pyplot as plt\n",
        "import pandas as pd\n",
        "import pandas_datareader as web\n",
        "import datetime as dt"
      ],
      "execution_count": 2,
      "outputs": []
    },
    {
      "cell_type": "code",
      "metadata": {
        "id": "zIved20zVMz_"
      },
      "source": [
        "from sklearn.preprocessing import MinMaxScaler\n",
        "from tensorflow.keras.layers import Dense, Dropout, LSTM\n",
        "from tensorflow.keras.models import Sequential"
      ],
      "execution_count": 3,
      "outputs": []
    },
    {
      "cell_type": "markdown",
      "metadata": {
        "id": "duqrtFWEsagI"
      },
      "source": [
        "I will analyze Bitcoin against the US dollar."
      ]
    },
    {
      "cell_type": "code",
      "metadata": {
        "id": "TQR3dHuBVTDa"
      },
      "source": [
        "crypto_currency = 'BTC'\n",
        "against_currency = 'USD'"
      ],
      "execution_count": 4,
      "outputs": []
    },
    {
      "cell_type": "markdown",
      "metadata": {
        "id": "-Zh1qog2sjNW"
      },
      "source": [
        "I will import data from January 1, 2020 until today from Yahoo finance."
      ]
    },
    {
      "cell_type": "code",
      "metadata": {
        "id": "gpGn6lbiVXAw"
      },
      "source": [
        "start = dt.datetime(2020, 1, 1)\n",
        "end = dt.datetime.now()"
      ],
      "execution_count": 5,
      "outputs": []
    },
    {
      "cell_type": "code",
      "metadata": {
        "id": "TiBZ0pSigiRZ"
      },
      "source": [
        "data = web.DataReader(f'{crypto_currency}-{against_currency}', 'yahoo', start, end)"
      ],
      "execution_count": 6,
      "outputs": []
    },
    {
      "cell_type": "markdown",
      "metadata": {
        "id": "uxtxaK-IssT_"
      },
      "source": [
        "Let's take a peek at the data."
      ]
    },
    {
      "cell_type": "code",
      "metadata": {
        "colab": {
          "base_uri": "https://localhost:8080/"
        },
        "id": "hfh1IM50gp-b",
        "outputId": "a88306c9-3505-45e8-b8ef-4d425dc24f4c"
      },
      "source": [
        "# Prepare Data\n",
        "print(data.head())"
      ],
      "execution_count": 7,
      "outputs": [
        {
          "output_type": "stream",
          "name": "stdout",
          "text": [
            "                   High          Low  ...        Volume    Adj Close\n",
            "Date                                  ...                           \n",
            "2020-01-01  7254.330566  7174.944336  ...  1.856566e+10  7200.174316\n",
            "2020-01-02  7212.155273  6935.270020  ...  2.080208e+10  6985.470215\n",
            "2020-01-03  7413.715332  6914.996094  ...  2.811148e+10  7344.884277\n",
            "2020-01-04  7427.385742  7309.514160  ...  1.844427e+10  7410.656738\n",
            "2020-01-05  7544.497070  7400.535645  ...  1.972507e+10  7411.317383\n",
            "\n",
            "[5 rows x 6 columns]\n"
          ]
        }
      ]
    },
    {
      "cell_type": "markdown",
      "metadata": {
        "id": "WvpCRgFXtSR9"
      },
      "source": [
        "We will use the previous 60 days to predict price then train."
      ]
    },
    {
      "cell_type": "code",
      "metadata": {
        "id": "Jw9Ec21ocYQg"
      },
      "source": [
        "scaler = MinMaxScaler(feature_range=(0,1))\n",
        "scaled_data = scaler.fit_transform(data['Close'].values.reshape(-1,1))\n",
        "\n",
        "\n",
        "prediction_days = 60"
      ],
      "execution_count": 8,
      "outputs": []
    },
    {
      "cell_type": "code",
      "metadata": {
        "id": "_2ypL2XUVaxE"
      },
      "source": [
        "x_train, y_train = [], []\n",
        "\n",
        "for x in range(prediction_days, len(scaled_data)):\n",
        "    x_train.append(scaled_data[x-prediction_days:x, 0])\n",
        "    y_train.append(scaled_data[x, 0])\n",
        "\n",
        "x_train , y_train = np.array(x_train), np.array(y_train)\n",
        "x_train = np.reshape(x_train, (x_train.shape[0], x_train.shape[1], 1))"
      ],
      "execution_count": 9,
      "outputs": []
    },
    {
      "cell_type": "markdown",
      "metadata": {
        "id": "WnjYkSCgthHa"
      },
      "source": [
        "Let's create the neural network."
      ]
    },
    {
      "cell_type": "code",
      "metadata": {
        "colab": {
          "base_uri": "https://localhost:8080/"
        },
        "id": "I0o6Rh-GhdHy",
        "outputId": "35781e9e-8e81-43cc-a977-b0a939d25a89"
      },
      "source": [
        "model = Sequential()\n",
        "\n",
        "model.add(LSTM(units=50, return_sequences=True, input_shape=(x_train.shape[1], 1)))\n",
        "model.add(Dropout(0.2))\n",
        "model.add(LSTM(units=50, return_sequences=True))\n",
        "model.add(Dropout(0.2))\n",
        "model.add(LSTM(units=50))\n",
        "model.add(Dropout(0.2))\n",
        "model.add(Dense(units=1))\n",
        "\n",
        "model.compile(optimizer='adam', loss='mean_squared_error')\n",
        "model.fit(x_train, y_train, epochs=25, batch_size=32)"
      ],
      "execution_count": 10,
      "outputs": [
        {
          "output_type": "stream",
          "name": "stdout",
          "text": [
            "Epoch 1/25\n",
            "19/19 [==============================] - 7s 90ms/step - loss: 0.0599\n",
            "Epoch 2/25\n",
            "19/19 [==============================] - 2s 93ms/step - loss: 0.0092\n",
            "Epoch 3/25\n",
            "19/19 [==============================] - 2s 92ms/step - loss: 0.0076\n",
            "Epoch 4/25\n",
            "19/19 [==============================] - 2s 92ms/step - loss: 0.0074\n",
            "Epoch 5/25\n",
            "19/19 [==============================] - 2s 92ms/step - loss: 0.0066\n",
            "Epoch 6/25\n",
            "19/19 [==============================] - 2s 92ms/step - loss: 0.0063\n",
            "Epoch 7/25\n",
            "19/19 [==============================] - 2s 93ms/step - loss: 0.0065\n",
            "Epoch 8/25\n",
            "19/19 [==============================] - 2s 93ms/step - loss: 0.0067\n",
            "Epoch 9/25\n",
            "19/19 [==============================] - 2s 92ms/step - loss: 0.0056\n",
            "Epoch 10/25\n",
            "19/19 [==============================] - 2s 92ms/step - loss: 0.0055\n",
            "Epoch 11/25\n",
            "19/19 [==============================] - 2s 90ms/step - loss: 0.0047\n",
            "Epoch 12/25\n",
            "19/19 [==============================] - 2s 91ms/step - loss: 0.0050\n",
            "Epoch 13/25\n",
            "19/19 [==============================] - 2s 93ms/step - loss: 0.0051\n",
            "Epoch 14/25\n",
            "19/19 [==============================] - 2s 93ms/step - loss: 0.0048\n",
            "Epoch 15/25\n",
            "19/19 [==============================] - 2s 90ms/step - loss: 0.0043\n",
            "Epoch 16/25\n",
            "19/19 [==============================] - 2s 91ms/step - loss: 0.0053\n",
            "Epoch 17/25\n",
            "19/19 [==============================] - 2s 94ms/step - loss: 0.0053\n",
            "Epoch 18/25\n",
            "19/19 [==============================] - 2s 92ms/step - loss: 0.0056\n",
            "Epoch 19/25\n",
            "19/19 [==============================] - 2s 94ms/step - loss: 0.0050\n",
            "Epoch 20/25\n",
            "19/19 [==============================] - 2s 92ms/step - loss: 0.0046\n",
            "Epoch 21/25\n",
            "19/19 [==============================] - 2s 94ms/step - loss: 0.0043\n",
            "Epoch 22/25\n",
            "19/19 [==============================] - 2s 92ms/step - loss: 0.0041\n",
            "Epoch 23/25\n",
            "19/19 [==============================] - 2s 91ms/step - loss: 0.0044\n",
            "Epoch 24/25\n",
            "19/19 [==============================] - 2s 93ms/step - loss: 0.0052\n",
            "Epoch 25/25\n",
            "19/19 [==============================] - 2s 93ms/step - loss: 0.0061\n"
          ]
        },
        {
          "output_type": "execute_result",
          "data": {
            "text/plain": [
              "<keras.callbacks.History at 0x7fccfcb84dd0>"
            ]
          },
          "metadata": {},
          "execution_count": 10
        }
      ]
    },
    {
      "cell_type": "markdown",
      "metadata": {
        "id": "oBI9pu9Stogj"
      },
      "source": [
        "Let's test and create the dataset."
      ]
    },
    {
      "cell_type": "code",
      "metadata": {
        "id": "1x7zP4luh3z0"
      },
      "source": [
        "test_start = dt.datetime(2021, 1, 1)\n",
        "test_end = dt.datetime.now()\n",
        "\n",
        "test_data = web.DataReader(f'{crypto_currency}-{against_currency}', 'yahoo', test_start, test_end)\n",
        "actual_prices = test_data['Close'].values"
      ],
      "execution_count": 11,
      "outputs": []
    },
    {
      "cell_type": "code",
      "metadata": {
        "id": "49RAB6pvh_mI"
      },
      "source": [
        "total_dataset = pd.concat((data['Close'], test_data['Close']), axis=0)\n",
        "\n",
        "\n",
        "model_inputs = total_dataset[len(total_dataset) - len(test_data) - prediction_days:].values\n",
        "model_inputs = model_inputs.reshape(-1, 1)\n",
        "model_inputs = scaler.fit_transform(model_inputs)\n"
      ],
      "execution_count": 12,
      "outputs": []
    },
    {
      "cell_type": "code",
      "metadata": {
        "id": "iPFkYH9JiCvU"
      },
      "source": [
        "x_test = []\n",
        "\n",
        "for x in range(prediction_days, len(model_inputs)):\n",
        "    x_test.append(model_inputs[x-prediction_days:x, 0])\n",
        "\n",
        "x_test = np.array(x_test)\n",
        "x_test = np.reshape(x_test, (x_test.shape[0], x_test.shape[1], 1))\n"
      ],
      "execution_count": 13,
      "outputs": []
    },
    {
      "cell_type": "code",
      "metadata": {
        "id": "iK6mVC1ciEBD"
      },
      "source": [
        "prediction_prices = model.predict(x_test)\n",
        "prediction_prices = scaler.inverse_transform(prediction_prices)"
      ],
      "execution_count": 14,
      "outputs": []
    },
    {
      "cell_type": "markdown",
      "metadata": {
        "id": "9W-xsFGWtxH5"
      },
      "source": [
        "Now let's plot the data. Actual prices are shown against predicted prices. It's not perfect but it shows a trend."
      ]
    },
    {
      "cell_type": "code",
      "metadata": {
        "colab": {
          "base_uri": "https://localhost:8080/",
          "height": 241
        },
        "id": "d697An40iJLf",
        "outputId": "a31e7763-59dd-4550-8dd4-01146bb771bc"
      },
      "source": [
        "plt.plot(actual_prices, color='black', label='Actual Prices')\n",
        "plt.plot(prediction_prices, color='green', label='Predicted Prices')\n",
        "plt.plot(figsize=(16,8))\n",
        "plt.grid()\n",
        "plt.title(f'{crypto_currency} price prediction')\n",
        "plt.xlabel('Time')\n",
        "plt.ylabel('Price')\n",
        "plt.legend(loc='upper left')\n",
        "plt.show()"
      ],
      "execution_count": 28,
      "outputs": [
        {
          "output_type": "display_data",
          "data": {
            "image/png": "[encoded data removed]",
            "text/plain": [
              "<Figure size 1440x216 with 1 Axes>"
            ]
          },
          "metadata": {
            "needs_background": "light"
          }
        }
      ]
    },
    {
      "cell_type": "markdown",
      "metadata": {
        "id": "Tan8_ajEp5hE"
      },
      "source": [
        "We can try to predict tomorrow's price. Let's see what happens. The calculation was done on 10/6/21 10:49pm."
      ]
    },
    {
      "cell_type": "code",
      "metadata": {
        "colab": {
          "base_uri": "https://localhost:8080/"
        },
        "id": "wYzuWnq7iWCo",
        "outputId": "764b8f89-a3c9-48c7-afb1-a21f922ae5ab"
      },
      "source": [
        "#Predict Next Day\n",
        "\n",
        "real_data = [model_inputs[len(model_inputs) - prediction_days:len(model_inputs) + 1, 0]]\n",
        "real_data = np.array(real_data)\n",
        "real_data = np.reshape(real_data, (real_data.shape[0], real_data.shape[1], 1))\n",
        "\n",
        "prediction = model.predict(real_data)\n",
        "prediction = scaler.inverse_transform(prediction)\n",
        "print(prediction)\n"
      ],
      "execution_count": 33,
      "outputs": [
        {
          "output_type": "stream",
          "name": "stdout",
          "text": [
            "[[47285.48]]\n"
          ]
        }
      ]
    }
  ]
}